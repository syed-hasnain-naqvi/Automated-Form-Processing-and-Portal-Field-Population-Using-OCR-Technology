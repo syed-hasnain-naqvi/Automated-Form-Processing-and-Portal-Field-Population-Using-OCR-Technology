{
 "cells": [
  {
   "cell_type": "code",
   "execution_count": 7,
   "metadata": {},
   "outputs": [
    {
     "name": "stdout",
     "output_type": "stream",
     "text": [
      "File copied from E:/account_opening/code_base_001/zip/account_opening/code/output_pdf_files/1009031670_output.pdf to C:\\Users\\abc\\Desktop\\Testing_more_dir\\pdf_files\\1009031670_output.pdf\n"
     ]
    }
   ],
   "source": [
    "import shutil\n",
    "import os \n",
    "script_dir = os.getcwd()\n",
    "#source_path = os.path.join(script_dir,'pdf_files')\n",
    "# Define the source and destination paths\n",
    "source_path = 'E:/account_opening/code_base_001/zip/account_opening/code/output_pdf_files/1009031670_output.pdf'\n",
    "#source_path = 'C:/Users/abc/Desktop/Testing/debug_stage_2_output.pdf'\n",
    "filename = os.path.splitext(os.path.basename(source_path))[0]\n",
    "destination_path = os.path.join(script_dir,'pdf_files',f'{filename}.pdf')\n",
    "\n",
    "# Copy the PDF file from source to destination\n",
    "shutil.copy2(source_path, destination_path)\n",
    "\n",
    "print(f\"File copied from {source_path} to {destination_path}\")"
   ]
  },
  {
   "cell_type": "code",
   "execution_count": null,
   "metadata": {},
   "outputs": [],
   "source": []
  }
 ],
 "metadata": {
  "kernelspec": {
   "display_name": "OCR Kernel",
   "language": "python",
   "name": "env_ocr"
  },
  "language_info": {
   "codemirror_mode": {
    "name": "ipython",
    "version": 3
   },
   "file_extension": ".py",
   "mimetype": "text/x-python",
   "name": "python",
   "nbconvert_exporter": "python",
   "pygments_lexer": "ipython3",
   "version": "3.8.18"
  }
 },
 "nbformat": 4,
 "nbformat_minor": 2
}
